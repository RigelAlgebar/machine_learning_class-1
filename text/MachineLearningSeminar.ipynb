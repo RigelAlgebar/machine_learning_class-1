{
 "cells": [
  {
   "cell_type": "markdown",
   "metadata": {},
   "source": [
    "Input: for every molecule we have coordinates of atoms."
   ]
  },
  {
   "cell_type": "markdown",
   "metadata": {},
   "source": [
    "fingerprint. Given molecule, we ordered the atoms. For the ith atom, we have:"
   ]
  },
  {
   "cell_type": "markdown",
   "metadata": {},
   "source": [
    "$AFP^k_i(x)=\\sum_j \\delta(x-\\frac{d(a_i,a_j)^k}{min_b d(a_i,b)})$"
   ]
  },
  {
   "cell_type": "markdown",
   "metadata": {},
   "source": [
    "3-dim Crystals to 1-dim representations. \n",
    "distance divided by 1024"
   ]
  },
  {
   "cell_type": "markdown",
   "metadata": {},
   "source": [
    "random 3d rotation arond the atomic site i\n",
    "offsets, randomly shift the other atoms with normal distributed perturbations with standard deviation .01A\n",
    "12 perspectives\n",
    "3 tetrahedros\n"
   ]
  },
  {
   "cell_type": "markdown",
   "metadata": {},
   "source": [
    "since we use distance, we have translation invariance, dimension is fixed, 3D information "
   ]
  },
  {
   "cell_type": "code",
   "execution_count": null,
   "metadata": {},
   "outputs": [],
   "source": [
    "cell size R_max = 6min_b d(a_i,b)"
   ]
  },
  {
   "cell_type": "code",
   "execution_count": null,
   "metadata": {},
   "outputs": [],
   "source": [
    "delta width = 128 bins, shape alpha = 14"
   ]
  },
  {
   "cell_type": "code",
   "execution_count": null,
   "metadata": {},
   "outputs": [],
   "source": [
    "https://en.wikipedia.org/wiki/Kaiser_window"
   ]
  }
 ],
 "metadata": {
  "kernelspec": {
   "display_name": "Python keras-rl",
   "language": "python",
   "name": "keras-rl"
  },
  "language_info": {
   "codemirror_mode": {
    "name": "ipython",
    "version": 3
   },
   "file_extension": ".py",
   "mimetype": "text/x-python",
   "name": "python",
   "nbconvert_exporter": "python",
   "pygments_lexer": "ipython3",
   "version": "3.6.4"
  }
 },
 "nbformat": 4,
 "nbformat_minor": 2
}
