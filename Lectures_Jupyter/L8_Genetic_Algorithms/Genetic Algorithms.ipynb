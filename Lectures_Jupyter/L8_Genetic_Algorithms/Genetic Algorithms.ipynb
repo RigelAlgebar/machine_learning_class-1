{
 "cells": [
  {
   "cell_type": "markdown",
   "metadata": {},
   "source": [
    "# Genetic Algorithms (GAs)"
   ]
  },
  {
   "cell_type": "markdown",
   "metadata": {},
   "source": [
    "A genetic algorithm is a search heuristic that is inspired by Charles Darwin’s theory of natural evolution. This algorithm reflects the process of natural selection where the fittest individuals are selected for reproduction in order to produce offspring of the next generation.\n",
    "\n",
    "The process of natural selection starts with the selection of fittest individuals from a population. They produce offspring which inherit the characteristics of the parents and will be added to the next generation. If parents have better fitness, their offspring will be better than parents and have a better chance at surviving. This process keeps on iterating and at the end, a generation with the fittest individuals will be found."
   ]
  },
  {
   "cell_type": "markdown",
   "metadata": {},
   "source": [
    "![Figure 1](GAFigure1.png)"
   ]
  },
  {
   "cell_type": "markdown",
   "metadata": {},
   "source": [
    "## Motivation"
   ]
  },
  {
   "cell_type": "markdown",
   "metadata": {},
   "source": [
    "Some difficult problems have real-world applications. Imagine that you are using your GPS Navigation system, and it takes a few minutes (or even a few hours) to compute the “optimal” path from the source to destination. Delay in such real world applications is not acceptable and therefore a “good-enough” solution, which is delivered “fast” is what is required.\n",
    "A classic example of this representation is the travelling salesman problem (TSP). In this the salesman has to take a tour of all the cities, visiting each city exactly once and come back to the starting city. The total distance of the tour has to be minimized. The solution to this TSP is naturally an ordering or permutation of all the cities and therefore using a permutation representation makes sense for this problem. For example for 5 cities there are 120 different solutions (5!=120) but if we have 10 cities,there are 3,628,800 posibilities.\n",
    "\n",
    "This notion can be applied for a search problem. We consider a set of solutions for a problem and select the set of best ones out of them.\n",
    "\n",
    "Genetic Algorithms are frequently used:\n",
    "\n",
    "   + Optimization. Genetic Algorithms are most commonly used in optimization problems wherein we have to maximize or minimize a given objective function value under a given set of constraints. \n",
    "\n",
    "   + Economics. GAs are also used to characterize various economic models like the cobweb model, game theory equilibrium resolution, asset pricing, etc.\n",
    "\n",
    "   + Parallelization. GAs also have very good parallel capabilities, and prove to be very effective means in solving certain problems, and also provide a good area for research.\n",
    "\n",
    "   + Vehicle routing problems. With multiple soft time windows, multiple depots and a heterogeneous fleet.\n",
    "\n",
    "   + Robot Trajectory Generation. GAs have been used to plan the path which a robot arm takes by moving from one point to another.\n",
    "\n",
    "   + Multimodal Optimization. GAs are obviously very good approaches for multimodal optimization in which we have to find multiple optimum solutions.\n",
    "    \n",
    "**Advantages**\n",
    "\n",
    "   + Does not require any derivative information (which may not be available for many real-world problems).\n",
    "\n",
    "   + Is faster and more efficient as compared to the traditional methods.\n",
    "\n",
    "   + Has very good parallel capabilities.\n",
    "\n",
    "   + Provides a list of “good” solutions and not just a single solution.\n",
    "\n",
    "   + Always gets an answer to the problem, which gets better over the time.\n",
    "\n",
    "   + Useful when the search space is very large and there are a large number of parameters involved.\n",
    "\n",
    "**Limitations**\n",
    "\n",
    "   + GAs are not suited for all problems, especially problems which are simple and for which derivative information is available. Probably we don'tget the global optimum solution\n",
    "    \n",
    "   + Fitness value is calculated repeatedly which might be computationally expensive for some problems; in other words, \n",
    "\n",
    "   + Being stochastic, there are no guarantees on the optimality or the quality of the solution.\n",
    "\n",
    "   + If not implemented properly, the GA may not converge to the optimal solution."
   ]
  },
  {
   "cell_type": "markdown",
   "metadata": {},
   "source": [
    "# Process"
   ]
  },
  {
   "cell_type": "markdown",
   "metadata": {},
   "source": [
    "Five phases are considered in a genetic algorithm.\n",
    "\n",
    "   1) Population initialization\n",
    "   2) Fitness function\n",
    "   3) Selection\n",
    "   4) Crossover\n",
    "   5) Mutation"
   ]
  },
  {
   "cell_type": "markdown",
   "metadata": {},
   "source": [
    "![Figure 2](GAFigure2.png)"
   ]
  },
  {
   "cell_type": "markdown",
   "metadata": {},
   "source": [
    "**Initial Population**\n",
    "\n",
    "The process begins with a set of individuals which is called a Population. Each individual is a solution to the problem you want to solve.An individual is characterized by a set of parameters (variables) known as Genes. Genes are joined into a string to form a Chromosome (solution).\n",
    "\n",
    "**Fitness Function**\n",
    "\n",
    "The fitness function determines how fit an individual is (the ability of an individual to compete with other individuals). It gives a fitness score to each individual. The probability that an individual will be selected for reproduction is based on its fitness score.\n",
    "\n",
    "**Selection**\n",
    "\n",
    "The idea of selection phase is to select the fittest individuals and let them pass their genes to the next generation.\n",
    "\n",
    "Two pairs of individuals (parents) are selected based on their fitness scores. Individuals with high fitness have more chance to be selected for reproduction.\n",
    "\n",
    "**Crossover**\n",
    "\n",
    "Crossover is the most significant phase in a genetic algorithm. For each pair of parents to be mated, a crossover point is chosen at random from within the genes.\n"
   ]
  },
  {
   "cell_type": "markdown",
   "metadata": {},
   "source": [
    "![Figure 3.](GAFigure3.png)"
   ]
  },
  {
   "cell_type": "markdown",
   "metadata": {},
   "source": [
    "**Mutation**\n",
    "\n",
    "In certain new offspring formed, some of their genes can be subjected to a mutation with a low random probability. This implies that some of the bits in the bit string can be flipped."
   ]
  },
  {
   "cell_type": "markdown",
   "metadata": {},
   "source": [
    "![Figure 4.](GAFigure4.png)"
   ]
  },
  {
   "cell_type": "markdown",
   "metadata": {},
   "source": [
    "# Some details to take into account"
   ]
  },
  {
   "cell_type": "markdown",
   "metadata": {},
   "source": [
    "The population size should not be kept very large as it can cause a GA to slow down, while a smaller population might not be enough for a good mating pool. Therefore, an optimal population size needs to be decided by trial and error.\n",
    "\n",
    "In a generational model, we generate ‘n’ off-springs, we can take the best off-springs and replace some individuals from the initial population or the entire population is replaced by the new one at the end of the iteration. What do you choose?\n",
    "\n",
    "For a new generation, is it better choose just all the best ones? Parent selection is very crucial to the convergence rate of the GA as good parents drive individuals to a better and fitter solutions.\n",
    "\n",
    "However, care should be taken to prevent one extremely fit solution from taking over the entire population in a few generations, as this leads to the solutions being close to one another in the solution space thereby leading to a loss of diversity. Maintaining good diversity in the population is extremely crucial for the success of a GA. This taking up of the entire population by one extremely fit solution is known as premature convergence and is an undesirable condition in a GA.\n",
    "\n",
    "Some GAs employ Elitism, it means the current fittest member of the population is always propagated to the next generation,but keep in mind the diversity of the population should be maintained otherwise it might lead to premature convergence.\n",
    "\n",
    "In ordertoprevent premature convergence, there are several random methods for choosing parents: Roullte Wheel, Tournament, Stochastic Universal Sampling, or Random Selection. The fittest members have preference for reproducing, but they shouldn't be the only ones.\n",
    "\n",
    "Crossover process can be achive out splitting the chromosomes in two, three or uniform parts. \n",
    "\n",
    "Mutation is the part of the GA which is related to the “exploration” of the search space. It has been observed that mutation is essential to the convergence of the GA while crossover is not. We select one or more random bits and flip them.\n",
    "\n",
    "The Survivor Selection Policy determines which individuals are to be kicked out and which are to be kept in the next generation. It is crucial as it should ensure that the fitter individuals are not kicked out of the population, while at the same time diversity should be maintained in the population. See the comments in this video (5:30-9:10 min)\n"
   ]
  },
  {
   "cell_type": "code",
   "execution_count": 34,
   "metadata": {},
   "outputs": [
    {
     "data": {
      "image/jpeg": "[encoded data removed]",
      "text/html": [
       "\n",
       "        <iframe\n",
       "            width=\"400\"\n",
       "            height=\"300\"\n",
       "            src=\"https://www.youtube.com/embed/XP8R0yzAbdo\"\n",
       "            frameborder=\"0\"\n",
       "            allowfullscreen\n",
       "        ></iframe>\n",
       "        "
      ],
      "text/plain": [
       "<IPython.lib.display.YouTubeVideo at 0x107873390>"
      ]
     },
     "execution_count": 34,
     "metadata": {},
     "output_type": "execute_result"
    }
   ],
   "source": [
    "from IPython.display import YouTubeVideo\n",
    "YouTubeVideo(\"XP8R0yzAbdo\")"
   ]
  },
  {
   "cell_type": "markdown",
   "metadata": {},
   "source": [
    "The termination condition of a Genetic Algorithm is important in determining when a GA run will end. Usually, we keep one of the following termination conditions −\n",
    "\n",
    "   + When there has been no improvement in the population for X iterations.\n",
    "   + When we reach an absolute number of generations.\n",
    "   + When the objective function value has reached a certain pre-defined value."
   ]
  },
  {
   "cell_type": "markdown",
   "metadata": {},
   "source": [
    "# References"
   ]
  },
  {
   "cell_type": "markdown",
   "metadata": {},
   "source": [
    "+ Genetic Algorithms in Search, Optimization and Machine Learning by David E. Goldberg.\n",
    "\n",
    "+ Genetic Algorithms + Data Structures = Evolutionary Programs by Zbigniew Michalewicz.\n",
    "\n",
    "+ Practical Genetic Algorithms by Randy L. Haupt and Sue Ellen Haupt.\n",
    "\n",
    "+ Multi Objective Optimization using Evolutionary Algorithms by Kalyanmoy Deb.\n",
    "   \n",
    "https://www.tutorialspoint.com/genetic_algorithms"
   ]
  },
  {
   "cell_type": "markdown",
   "metadata": {},
   "source": [
    "![Figure 5.](GAFigure5.png)"
   ]
  },
  {
   "cell_type": "markdown",
   "metadata": {},
   "source": [
    "**Example**"
   ]
  },
  {
   "cell_type": "markdown",
   "metadata": {},
   "source": [
    "Suppose there is an equation a + 2b + 3c + 4d = 30, GA will be used to find the variable a, b, c, and d that satisfy it. Firt we should formulate the objetive function, for this problem the function is  f(x) = a + 2b + 3c + 4d -30. Since there are four variables, we can restrict the values are integers between 0 and 30; in general they couldn't be neccesary integers but for ilustrate this example we assume this condition.  \n",
    "For the first step we choose 10 chromosomes;there are not clear criteria to choose the initial population, the first number of elements."
   ]
  },
  {
   "cell_type": "code",
   "execution_count": 80,
   "metadata": {},
   "outputs": [
    {
     "name": "stdout",
     "output_type": "stream",
     "text": [
      "population: [[24, 0, 9, 29], [3, 24, 2, 28], [13, 21, 7, 12], [20, 6, 10, 17], [14, 4, 22, 6], [8, 17, 25, 21], [8, 6, 19, 7], [7, 13, 3, 17], [28, 29, 15, 0], [4, 21, 27, 17], [14, 20, 12, 6], [21, 4, 23, 10], [11, 26, 14, 18], [4, 26, 15, 5], [4, 15, 8, 7], [18, 17, 12, 29], [4, 15, 26, 4], [29, 24, 7, 29], [21, 28, 23, 4], [29, 7, 5, 1], [23, 8, 29, 10], [24, 13, 15, 6], [14, 16, 11, 3], [23, 14, 20, 28], [27, 12, 10, 10], [18, 10, 7, 5], [1, 28, 2, 9], [14, 23, 7, 21], [0, 22, 14, 12], [16, 12, 0, 19], [20, 5, 21, 21], [4, 27, 20, 2], [2, 25, 29, 0], [10, 22, 27, 21], [2, 18, 3, 19], [15, 0, 27, 1], [11, 13, 0, 3], [11, 18, 15, 13], [8, 14, 1, 19], [3, 9, 26, 5], [11, 2, 1, 12], [27, 8, 18, 24], [21, 24, 1, 25], [24, 26, 7, 15], [9, 2, 0, 27], [26, 6, 9, 3], [21, 14, 26, 3], [18, 27, 17, 13], [28, 22, 10, 27], [8, 0, 29, 14]]\n"
     ]
    }
   ],
   "source": [
    "import random as random\n",
    "import math\n",
    "\n",
    "#random initial population \n",
    "parameter = 30\n",
    "#elements = len(population)\n",
    "#population = people\n",
    "elements = 50\n",
    "population = []\n",
    "for i in range (elements):   \n",
    "    p = [random.randrange(0,parameter,1), random.randrange(0,parameter,1), random.randrange(0,parameter,1), random.randrange(0,parameter,1)]\n",
    "    population.append(p) \n",
    "print('population:', population)"
   ]
  },
  {
   "cell_type": "markdown",
   "metadata": {},
   "source": [
    "Now we make the evaluation of the population in the target function and select the chromosomes  "
   ]
  },
  {
   "cell_type": "code",
   "execution_count": 81,
   "metadata": {},
   "outputs": [
    {
     "name": "stdout",
     "output_type": "stream",
     "text": [
      "best: [[11, 13, 0, 3], [29, 7, 5, 1], [11, 2, 1, 12], [26, 6, 9, 3], [18, 10, 7, 5], [4, 15, 8, 7], [14, 16, 11, 3], [1, 28, 2, 9], [15, 0, 27, 1], [8, 6, 19, 7], [7, 13, 3, 17], [14, 4, 22, 6], [14, 20, 12, 6], [8, 14, 1, 19], [16, 12, 0, 19], [21, 24, 1, 25], [28, 29, 15, 0], [20, 5, 21, 21], [18, 27, 17, 13], [4, 27, 20, 2], [21, 4, 23, 10], [24, 13, 15, 6]]\n",
      "[19.0, 32.0, 36.0, 47.0, 49.0, 56.0, 61.0, 69.0, 70.0, 75.0, 80.0, 82.0, 84.0, 85.0, 86.0, 142.0, 101.0, 147.0, 145.0, 96.0, 108.0, 89.0]\n"
     ]
    }
   ],
   "source": [
    "best = []\n",
    "other = []\n",
    "perfect = []\n",
    "def fitness(person):\n",
    "    return math.fabs(person[0]+2*person[1]+3*person[2]+4*person[3]-30)\n",
    "\n",
    "for i in range (elements):\n",
    "    p = fitness(population[i])\n",
    "    if p == 0:\n",
    "        print('one solution is: ',population[i][:])\n",
    "        break\n",
    "    else:\n",
    "        other.append(population[i][:]) \n",
    "best = sorted(other, key = lambda people:fitness(people))\n",
    "other = best[int(len(best)*.3):]\n",
    "size = len(other)\n",
    "best = best[:int(len(best)*.3)] + random.sample(other, int(.2* size))\n",
    "print('best:', best)\n",
    "print([fitness(person) for person in best])\n"
   ]
  },
  {
   "cell_type": "markdown",
   "metadata": {},
   "source": [
    "After evaluation, we can classify the initial population after in \"best\" and \"others\".  An advice about crossover, in order to avoid just keep the best ones (elithism), is taking the 30% from best chromosomes and 20% from the others chromosomes.    For the new chromosome 50% of mother and father were selected."
   ]
  },
  {
   "cell_type": "code",
   "execution_count": 82,
   "metadata": {},
   "outputs": [
    {
     "name": "stdout",
     "output_type": "stream",
     "text": [
      "people:  [[20, 5, 9, 3], [28, 29, 23, 10], [4, 27, 0, 19], [11, 13, 9, 3], [26, 6, 12, 6], [7, 13, 7, 5], [11, 2, 8, 7], [29, 7, 15, 6], [8, 14, 8, 7], [15, 0, 20, 2], [14, 4, 15, 6], [26, 6, 0, 19], [15, 0, 23, 10], [21, 4, 9, 3], [29, 7, 3, 17], [14, 4, 17, 13], [29, 7, 1, 25], [11, 13, 5, 1], [16, 12, 19, 7], [14, 16, 5, 1], [11, 13, 12, 6], [1, 28, 7, 5], [26, 6, 1, 12], [1, 28, 15, 6], [11, 13, 11, 3], [20, 5, 5, 1], [14, 4, 23, 10], [29, 7, 1, 25], [18, 27, 12, 6], [29, 7, 20, 2], [4, 27, 0, 3], [21, 24, 1, 19], [28, 29, 5, 1], [21, 24, 3, 17], [18, 27, 23, 10], [18, 10, 1, 19], [8, 6, 2, 9], [18, 27, 27, 1], [20, 5, 23, 10], [11, 13, 15, 6], [14, 4, 11, 3], [1, 28, 0, 3], [16, 12, 1, 19], [21, 24, 3, 17], [11, 2, 21, 21], [14, 20, 5, 1], [4, 27, 1, 19], [14, 4, 27, 1]]\n",
      "48\n"
     ]
    }
   ],
   "source": [
    "#make crossover\n",
    "people = []\n",
    "for i in range(max(elements,elements-len(population))):\n",
    "    a = random.randrange(len(best))\n",
    "    b = random.randrange(len(best))\n",
    "    if a != b:\n",
    "        father = best[a][:2]\n",
    "        mother = best[b][2:]\n",
    "        child = father + mother\n",
    "        people.append(child)\n",
    "print('people: ', people)\n",
    "print(len(people))"
   ]
  },
  {
   "cell_type": "markdown",
   "metadata": {},
   "source": [
    "In the croosover, new elements are made,  but the new generation it is not completed until the mutation. For this example the third and fourth elements were muted."
   ]
  },
  {
   "cell_type": "code",
   "execution_count": 83,
   "metadata": {},
   "outputs": [
    {
     "name": "stdout",
     "output_type": "stream",
     "text": [
      "mutant:  [[20, 5, 3, 9], [28, 29, 10, 23], [4, 27, 19, 0], [11, 13, 3, 9], [26, 6, 6, 12]]\n",
      "people:  [[20, 5, 3, 9], [28, 29, 10, 23], [4, 27, 19, 0], [11, 13, 3, 9], [26, 6, 6, 12], [7, 13, 7, 5], [11, 2, 8, 7], [29, 7, 15, 6], [8, 14, 8, 7], [15, 0, 20, 2], [14, 4, 15, 6], [26, 6, 0, 19], [15, 0, 23, 10], [21, 4, 9, 3], [29, 7, 3, 17], [14, 4, 17, 13], [29, 7, 1, 25], [11, 13, 5, 1], [16, 12, 19, 7], [14, 16, 5, 1], [11, 13, 12, 6], [1, 28, 7, 5], [26, 6, 1, 12], [1, 28, 15, 6], [11, 13, 11, 3], [20, 5, 5, 1], [14, 4, 23, 10], [29, 7, 1, 25], [18, 27, 12, 6], [29, 7, 20, 2], [4, 27, 0, 3], [21, 24, 1, 19], [28, 29, 5, 1], [21, 24, 3, 17], [18, 27, 23, 10], [18, 10, 1, 19], [8, 6, 2, 9], [18, 27, 27, 1], [20, 5, 23, 10], [11, 13, 15, 6], [14, 4, 11, 3], [1, 28, 0, 3], [16, 12, 1, 19], [21, 24, 3, 17], [11, 2, 21, 21], [14, 20, 5, 1], [4, 27, 1, 19], [14, 4, 27, 1]]\n",
      "48\n"
     ]
    }
   ],
   "source": [
    "#make mutation\n",
    "mutant = []\n",
    "number = round(0.1*len(people))\n",
    "for i in range(number):\n",
    "    mut = people[i][:2]+people[i][3:4]+people[i][2:3]\n",
    "    mutant.append(mut)\n",
    "    \n",
    "people = mutant + people[number:]\n",
    "print('mutant: ', mutant)\n",
    "print('people: ', people)\n",
    "print(len(people))"
   ]
  },
  {
   "cell_type": "markdown",
   "metadata": {},
   "source": [
    "With the new elements the process is repeated: evaluation, selection, crossover and mutation.  The iteration process can be achived until it find the optimized solution (\"while\" loop) or delimitated for a specific number (\"for\" loop). If we choose 100 elements, we can find -at least- one solution. Lets' try."
   ]
  },
  {
   "cell_type": "markdown",
   "metadata": {},
   "source": [
    " "
   ]
  },
  {
   "cell_type": "code",
   "execution_count": 89,
   "metadata": {},
   "outputs": [
    {
     "name": "stdout",
     "output_type": "stream",
     "text": [
      "7.0\n",
      "5.0\n",
      "5.0\n",
      "1.0\n",
      "1.0\n",
      "one solution is:  [15, 2, 1, 2]\n",
      "1.0\n"
     ]
    }
   ],
   "source": [
    "import random as random\n",
    "import math\n",
    "\n",
    "def fitness(person):\n",
    "    return math.fabs(person[0]+2*person[1]+3*person[2]+4*person[3]-30)\n",
    "\n",
    "#random initial population \n",
    "parameter = 30\n",
    "#elements = len(population)\n",
    "#population = people\n",
    "elements = 200\n",
    "iteration = 50\n",
    "population = []\n",
    "for i in range (elements):   \n",
    "    p = [random.randrange(0,parameter,1), random.randrange(0,parameter,1), random.randrange(0,parameter,1), random.randrange(0,parameter,1)]\n",
    "    population.append(p) \n",
    "step = 0    \n",
    "while step <iteration:\n",
    "    step = step + 1\n",
    "#do evaluation\n",
    "    best = []\n",
    "    other = []\n",
    "    perfect = []\n",
    "   # print(\"p =\",len(population))\n",
    "        \n",
    "    for j in range (elements):\n",
    "        p = fitness(population[j])\n",
    "        if p == 0:\n",
    "            print('one solution is: ',population[j][:])\n",
    "            step = iteration + 1\n",
    "            break\n",
    "        else:\n",
    "            other.append(population[j][:]) \n",
    "    best = sorted(other, key = lambda people:fitness(people))\n",
    "    other = best[int(len(best)*.3):]\n",
    "    print(fitness(best[0]))\n",
    "    size = len(other)\n",
    "    best = best[:int(len(best)*.3)] + random.sample(other, int(.2* size))\n",
    "\n",
    "   # print([fitness(person) for person in best])\n",
    "\n",
    "#do mate\n",
    "    people = []\n",
    "    for chance in range(elements - len(best)):\n",
    "        a = random.randrange(len(best))\n",
    "        b = random.randrange(len(best))\n",
    "        if a != b:\n",
    "            father = best[a][:2]\n",
    "            mother = best[b][2:]\n",
    "            child = father + mother\n",
    "            people.append(child)\n",
    "\n",
    "#do mutation\n",
    "    mutant = []\n",
    "    number = round(0.1*len(people))\n",
    "    temp = random.sample(range(len(people)), number)\n",
    "    for i in range(number):\n",
    "        mut = people[temp[i]][:2]+people[temp[i]][3:4]+people[temp[i]][2:3]\n",
    "        people[temp[i]] = mut\n",
    "    population = best + people\n",
    "    while len(population)<elements:\n",
    "        immigrant = [random.randrange(0,parameter,1), random.randrange(0,parameter,1), random.randrange(0,parameter,1), random.randrange(0,parameter,1)]\n",
    "        population.append(immigrant)\n",
    "   \n"
   ]
  },
  {
   "cell_type": "code",
   "execution_count": null,
   "metadata": {
    "collapsed": true
   },
   "outputs": [],
   "source": []
  },
  {
   "cell_type": "code",
   "execution_count": null,
   "metadata": {
    "collapsed": true
   },
   "outputs": [],
   "source": []
  },
  {
   "cell_type": "code",
   "execution_count": null,
   "metadata": {
    "collapsed": true
   },
   "outputs": [],
   "source": []
  }
 ],
 "metadata": {
  "kernelspec": {
   "display_name": "Python 3",
   "language": "python",
   "name": "python3"
  },
  "language_info": {
   "codemirror_mode": {
    "name": "ipython",
    "version": 3
   },
   "file_extension": ".py",
   "mimetype": "text/x-python",
   "name": "python",
   "nbconvert_exporter": "python",
   "pygments_lexer": "ipython3",
   "version": "3.6.3"
  }
 },
 "nbformat": 4,
 "nbformat_minor": 2
}
