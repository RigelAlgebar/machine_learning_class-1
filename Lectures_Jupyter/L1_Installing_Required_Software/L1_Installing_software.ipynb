{
 "cells": [
  {
   "cell_type": "markdown",
   "metadata": {},
   "source": [
    "<center>\n",
    "<font size='7' style=\"color:#0D47A1\">  <b>Python</b> </font>\n",
    "</center>\n",
    "\n",
    "<hr style= \"height:3px;\">\n",
    "<br>\n",
    "\n",
    "\n",
    "<hr style= \"height:1px;\">\n",
    "<font size='6' style=\"color:#000000\">  <b>Table of Contents</b> </font>\n",
    "\n",
    "1. [Installing Python](#install_python)\n",
    "2. [Installing Scikit-learn](#install_Scikit-learn)\n",
    "1. [Tutorials for Python](#tutorials_python)\n",
    "\n",
    "<hr style= \"height:1px;\">\n",
    "<br>\n",
    "<br>\n",
    "<br>\n",
    "<br>\n",
    "<br>\n",
    "<a id='install_python'></a>\n",
    "<font size='6' style=\"color:#00A6D6\">  <b>Installing Python 3</b> </font>\n",
    "\n",
    "We recommend to install __[Anaconda](https://www.anaconda.com/download/)__. If you do need to install Python and you aren not confident about the task you can find a few notes on the __[BeginnersGuide/Download wiki](https://wiki.python.org/moin/BeginnersGuide/Download)__ page, but installation is unremarkable on most platforms.\n",
    "\n",
    "<hr style= \"height:3px;\">\n",
    "<br>\n",
    "\n",
    "\n",
    "<a id='install_Scikit-learn'></a>\n",
    "<font size='6' style=\"color:#00A6D6\">  <b>Installing Scikit-Learn</b> </font>\n",
    "\n",
    "If you already have a working installation of numpy and scipy, the easiest way to install scikit-learn is using pip\n",
    "\n",
    "    pip install -U scikit-learn\n",
    "or conda:\n",
    "\n",
    "    conda install scikit-learn\n",
    "\n",
    "otherwise please refer to the__[Official Website](https://scikit-learn.org/stable/install.html)__ for installation details.\n",
    "\n",
    "<hr style= \"height:3px;\">\n",
    "<br>\n",
    "<br>\n",
    "<br>\n",
    "<br>"
   ]
  },
  {
   "cell_type": "markdown",
   "metadata": {
    "collapsed": true
   },
   "source": [
    "<center>\n",
    "<font size='7' style=\"color:#0D47A1\">  <b>TUTORIALS</b> </font>\n",
    "</center>\n",
    "<a id='tutorials_python'></a>\n",
    "<font size='6' style=\"color:#00A6D6\">  <b>Tutorials for Python</b> </font>\n",
    "\n",
    "At the Python console, typing help([object]) invokes the built-in help system.  If no argument is given, the interactive help system starts on the interpreter console. If the argument is a string, then the string is looked up as the name of a module, function, class, method, keyword, or documentation topic, and a help page is printed on the console. If the argument is any other kind of object, a help page on the object is generated. Further documentation can be found at __[documentation for python 3.6.4.](https://docs.python.org/3/)__.\n",
    " \n",
    "If you have never programmed before, the tutorials on this __[beginners guide](https://wiki.python.org/moin/BeginnersGuide/NonProgrammers)__ are recommended for you; they do not assume that you have previous experience.  When you're learning, small __[examples](https://wiki.python.org/moin/BeginnersGuide/Examples)__ can be very helpful.  If you have programming experience, also check out the __[beginnersGuide/programmers](https://wiki.python.org/moin/BeginnersGuide/Programmers)__ page and the __[python module index](https://docs.python.org/3/py-modindex.html)__.\n",
    "<br>\n",
    "<br>\n",
    "<br>\n",
    "\n",
    "\n",
    "<a id='programming_python'></a>\n",
    "<center>\n",
    "<font size='5' style=\"color:#4CAF50\">  <b>Programming in Python</b> </font>\n",
    "</center>\n",
    "\n",
    "| **Learning Module** | **Learning Goals** |\n",
    "| :-------------------- | :-------------------- |\n",
    "| __[For loop](http://interactivepython.org/runestone/static/thinkcspy/PythonTurtle/TheforLoop.html)__   | Repeat a sequence of commands a specified number of times |\n",
    "| __[While](http://interactivepython.org/runestone/static/thinkcspy/MoreAboutIteration/ThewhileStatement.html)__  | Repeat a sequence of commands as far as a condition is satisfied|\n",
    "| __[Functions](http://interactivepython.org/runestone/static/thinkcspy/Functions/toctree.html)__| Use Python variables for input and output to functions.|\n",
    "| __[Strings](http://interactivepython.org/runestone/static/thinkcspy/Strings/toctree.html)__|Manipulation of characters|\n",
    "| __[List](http://interactivepython.org/runestone/static/thinkcspy/Lists/toctree.html)__| Sequential collection of Python data values, where each value is identified by an index |\n",
    "| __[Files](http://interactivepython.org/runestone/static/thinkcspy/Files/toctree.html)__|How to work with Files|\n",
    "| __[Dictionaries](http://interactivepython.org/runestone/static/thinkcspy/Dictionaries/toctree.html)__|  Python’s built-in mapping type.\n",
    "<hr style= \"height:3px;\">"
   ]
  },
  {
   "cell_type": "code",
   "execution_count": null,
   "metadata": {},
   "outputs": [],
   "source": []
  }
 ],
 "metadata": {
  "kernelspec": {
   "display_name": "Python 3",
   "language": "python",
   "name": "python3"
  },
  "language_info": {
   "codemirror_mode": {
    "name": "ipython",
    "version": 3
   },
   "file_extension": ".py",
   "mimetype": "text/x-python",
   "name": "python",
   "nbconvert_exporter": "python",
   "pygments_lexer": "ipython3",
   "version": "3.6.5"
  }
 },
 "nbformat": 4,
 "nbformat_minor": 2
}
